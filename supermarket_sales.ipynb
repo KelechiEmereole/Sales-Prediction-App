{
 "cells": [
  {
   "cell_type": "markdown",
   "id": "1946f958",
   "metadata": {},
   "source": [
    "### Supermarket Sales Prediction Model\n",
    "About the Project\n",
    "\n",
    "Accurate sales forecasting is essential for optimizing operations and driving growth in the retail sector.\n",
    "This project leverages the Supermarket Sales dataset to develop a machine learning regression model that predicts total market sales based on historical transaction data.\n",
    "\n",
    "The dataset includes detailed records such as product types, unit prices, quantities sold, and gross income, along with customer demographics like gender, membership type, and payment method.\n",
    "\n",
    "By uncovering key sales drivers and generating predictive insights, the model aims to support businesses in planning inventory, optimizing promotions, and designing data-driven marketing strategies.\n",
    "Ultimately, this project contributes to more efficient decision-making and improved financial performance in the supermarket industry."
   ]
  },
  {
   "cell_type": "markdown",
   "id": "340013de",
   "metadata": {},
   "source": [
    "> ### Objectives\n",
    "\n",
    "> - Build a machine learning regression model to accurately predict market sales using historical supermarket data.\n",
    "\n",
    "> - Identify the most influential features affecting sales, such as product category, gross income, and customer type.\n",
    "\n",
    "> - Provide actionable insights to improve inventory planning, resource allocation, and marketing strategy.\n",
    "\n",
    "> - Evaluate model performance using standard regression metrics such as MAE, MSE, and R².\n",
    "\n",
    ">- Support data-driven decision-making by visualizing key patterns and trends in the sales data."
   ]
  },
  {
   "cell_type": "code",
   "execution_count": 171,
   "metadata": {},
   "outputs": [],
   "source": [
    "import warnings \n",
    "warnings.filterwarnings('ignore')"
   ]
  },
  {
   "cell_type": "code",
   "execution_count": 172,
   "id": "2ebb54e8",
   "metadata": {},
   "outputs": [],
   "source": [
    "#importing necessary libraries\n",
    "import numpy as np \n",
    "import pandas as pd\n",
    "import matplotlib.pyplot as plt\n",
    "import seaborn as sns"
   ]
  },
  {
   "cell_type": "code",
   "execution_count": 173,
   "id": "e3a1d06d",
   "metadata": {},
   "outputs": [],
   "source": [
    "#Loadig dataset\n",
    "def data_loading(data):\n",
    "    df= pd.read_csv(data)\n",
    "    df.columns = df.columns.str.strip().str.replace(' ', '_').str.lower()\n",
    "    return df\n",
    "\n",
    "df= data_loading(\"C:/Users/KELECHI/Desktop/Data science/Zion_tech_traning/supermarket_sales new.csv\")"
   ]
  },
  {
   "cell_type": "code",
   "execution_count": 174,
   "id": "ea390967",
   "metadata": {},
   "outputs": [
    {
     "data": {
      "text/html": [
       "<div>\n",
       "<style scoped>\n",
       "    .dataframe tbody tr th:only-of-type {\n",
       "        vertical-align: middle;\n",
       "    }\n",
       "\n",
       "    .dataframe tbody tr th {\n",
       "        vertical-align: top;\n",
       "    }\n",
       "\n",
       "    .dataframe thead th {\n",
       "        text-align: right;\n",
       "    }\n",
       "</style>\n",
       "<table border=\"1\" class=\"dataframe\">\n",
       "  <thead>\n",
       "    <tr style=\"text-align: right;\">\n",
       "      <th></th>\n",
       "      <th>gender</th>\n",
       "      <th>invoice_id</th>\n",
       "      <th>branch</th>\n",
       "      <th>city</th>\n",
       "      <th>customer_type</th>\n",
       "      <th>product_line</th>\n",
       "      <th>unit_price</th>\n",
       "      <th>quantity</th>\n",
       "      <th>tax_5%</th>\n",
       "    </tr>\n",
       "  </thead>\n",
       "  <tbody>\n",
       "    <tr>\n",
       "      <th>0</th>\n",
       "      <td>Female</td>\n",
       "      <td>750-67-8428</td>\n",
       "      <td>A</td>\n",
       "      <td>Yangon</td>\n",
       "      <td>Member</td>\n",
       "      <td>Health and beauty</td>\n",
       "      <td>74.69</td>\n",
       "      <td>7</td>\n",
       "      <td>261.415</td>\n",
       "    </tr>\n",
       "    <tr>\n",
       "      <th>1</th>\n",
       "      <td>Female</td>\n",
       "      <td>226-31-3081</td>\n",
       "      <td>C</td>\n",
       "      <td>Naypyitaw</td>\n",
       "      <td>Normal</td>\n",
       "      <td>Electronic accessories</td>\n",
       "      <td>15.28</td>\n",
       "      <td>5</td>\n",
       "      <td>3.820</td>\n",
       "    </tr>\n",
       "    <tr>\n",
       "      <th>2</th>\n",
       "      <td>Female</td>\n",
       "      <td>355-53-5943</td>\n",
       "      <td>A</td>\n",
       "      <td>Yangon</td>\n",
       "      <td>Member</td>\n",
       "      <td>Electronic accessories</td>\n",
       "      <td>68.84</td>\n",
       "      <td>6</td>\n",
       "      <td>20.652</td>\n",
       "    </tr>\n",
       "    <tr>\n",
       "      <th>3</th>\n",
       "      <td>Female</td>\n",
       "      <td>315-22-5665</td>\n",
       "      <td>C</td>\n",
       "      <td>Naypyitaw</td>\n",
       "      <td>Normal</td>\n",
       "      <td>Home and lifestyle</td>\n",
       "      <td>73.56</td>\n",
       "      <td>10</td>\n",
       "      <td>36.780</td>\n",
       "    </tr>\n",
       "    <tr>\n",
       "      <th>4</th>\n",
       "      <td>Female</td>\n",
       "      <td>665-32-9167</td>\n",
       "      <td>A</td>\n",
       "      <td>Yangon</td>\n",
       "      <td>Member</td>\n",
       "      <td>Health and beauty</td>\n",
       "      <td>36.26</td>\n",
       "      <td>2</td>\n",
       "      <td>3.626</td>\n",
       "    </tr>\n",
       "  </tbody>\n",
       "</table>\n",
       "</div>"
      ],
      "text/plain": [
       "   gender   invoice_id branch       city customer_type  \\\n",
       "0  Female  750-67-8428      A     Yangon        Member   \n",
       "1  Female  226-31-3081      C  Naypyitaw        Normal   \n",
       "2  Female  355-53-5943      A     Yangon        Member   \n",
       "3  Female  315-22-5665      C  Naypyitaw        Normal   \n",
       "4  Female  665-32-9167      A     Yangon        Member   \n",
       "\n",
       "             product_line  unit_price  quantity   tax_5%  \n",
       "0       Health and beauty       74.69         7  261.415  \n",
       "1  Electronic accessories       15.28         5    3.820  \n",
       "2  Electronic accessories       68.84         6   20.652  \n",
       "3      Home and lifestyle       73.56        10   36.780  \n",
       "4       Health and beauty       36.26         2    3.626  "
      ]
     },
     "execution_count": 174,
     "metadata": {},
     "output_type": "execute_result"
    }
   ],
   "source": [
    "# viewing the dataset\n",
    "df.head(5)"
   ]
  },
  {
   "cell_type": "code",
   "execution_count": 175,
   "id": "56528bd7",
   "metadata": {},
   "outputs": [
    {
     "data": {
      "text/plain": [
       "(1000, 9)"
      ]
     },
     "execution_count": 175,
     "metadata": {},
     "output_type": "execute_result"
    }
   ],
   "source": [
    "df.shape"
   ]
  },
  {
   "cell_type": "code",
   "execution_count": 176,
   "id": "deb00d35",
   "metadata": {},
   "outputs": [
    {
     "name": "stdout",
     "output_type": "stream",
     "text": [
      "gender            object\n",
      "invoice_id        object\n",
      "branch            object\n",
      "city              object\n",
      "customer_type     object\n",
      "product_line      object\n",
      "unit_price       float64\n",
      "quantity           int64\n",
      "tax_5%           float64\n",
      "dtype: object\n"
     ]
    }
   ],
   "source": [
    "# checking the datatype of all columns\n",
    "print(df.dtypes)"
   ]
  },
  {
   "cell_type": "code",
   "execution_count": 177,
   "id": "a4f21d6b",
   "metadata": {},
   "outputs": [
    {
     "data": {
      "text/plain": [
       "np.int64(0)"
      ]
     },
     "execution_count": 177,
     "metadata": {},
     "output_type": "execute_result"
    }
   ],
   "source": [
    "# checking for duplicates\n",
    "df.duplicated().sum()"
   ]
  },
  {
   "cell_type": "code",
   "execution_count": 178,
   "id": "4aad7ba2",
   "metadata": {},
   "outputs": [
    {
     "name": "stdout",
     "output_type": "stream",
     "text": [
      "gender           0\n",
      "invoice_id       0\n",
      "branch           0\n",
      "city             0\n",
      "customer_type    0\n",
      "product_line     0\n",
      "unit_price       0\n",
      "quantity         0\n",
      "tax_5%           0\n",
      "dtype: int64\n"
     ]
    }
   ],
   "source": [
    "# Cheching for missing values\n",
    "print(df.isnull().sum())"
   ]
  },
  {
   "cell_type": "markdown",
   "id": "51d9539a",
   "metadata": {},
   "source": [
    "# Data Quality Summary\n",
    "\n",
    "Correct Data Types : gender (object), invoice_id (object), branch (object), city (object), customer_type (object), product_line (object), unit_price (float64), quantity (int64), tax_5% (float64)\n",
    "\n",
    "Missing Values: None found.\n",
    "\n",
    "Duplicate Rows: None detected."
   ]
  },
  {
   "cell_type": "markdown",
   "id": "98d43e03",
   "metadata": {},
   "source": [
    "## Data Description\n",
    "\n",
    "The dataset contains detailed records of supermarket transactions, including product details, sales metrics, and customer demographics. It captures sales behavior across different branches and cities, making it suitable for exploratory data analysis, sales forecasting, and customer segmentation.\n",
    "\n",
    "Total Columns: 9\n",
    "All records are complete with no missing values or duplicate entries. Data types are correctly assigned to support analysis and modeling.\n",
    "\n",
    "| Column Name | Criteria                                              |\n",
    "|-------------|---------------------------------------------------------|\n",
    "gender\t |  Object. </br> Indicates customer gender (Male/Female). Useful for demographic segmentation. </br>\n",
    "invoice_id\t|  Object. </br> Unique transaction identifier. No duplicates. Not used for modeling. </br>\n",
    "branch\t |  Object. </br> Branch code (A, B, C). Each code represents a unique store location. </br>\n",
    "city\t|  Object. </br> City where the transaction occurred (e.g., Yangon, Naypyitaw). Useful for geographic analysis. </br>\n",
    "customer_type\t|  Object. </br> Indicates if the customer is a Member or a Normal (non-member). Useful for loyalty program evaluation. </br>\n",
    "product_line\t|  Object. </br> Category of the product sold (e.g., Health and beauty, Electronic accessories). Used for product trend analysis. </br>\n",
    "unit_price\t |  Float64. </br> Price per unit of the product. Continuous numerical feature for revenue calculations. </br>\n",
    "quantity\t|   Int64. </br> Number of units sold in a transaction. Important for sales volume analysis. </br>\n",
    "tax_5%\t|   Float64. </br> 5% tax applied to each transaction. Correlated with total sales amount. </br>\n",
    "\n"
   ]
  },
  {
   "cell_type": "code",
   "execution_count": 179,
   "id": "a42e5730",
   "metadata": {},
   "outputs": [
    {
     "data": {
      "text/plain": [
       "array(['Female', 'Male'], dtype=object)"
      ]
     },
     "execution_count": 179,
     "metadata": {},
     "output_type": "execute_result"
    }
   ],
   "source": [
    "df.gender.unique()"
   ]
  },
  {
   "cell_type": "code",
   "execution_count": 180,
   "id": "6c89bd9f",
   "metadata": {},
   "outputs": [
    {
     "data": {
      "text/plain": [
       "array(['A', 'C', 'B'], dtype=object)"
      ]
     },
     "execution_count": 180,
     "metadata": {},
     "output_type": "execute_result"
    }
   ],
   "source": [
    "df.branch.unique()"
   ]
  },
  {
   "cell_type": "code",
   "execution_count": 181,
   "id": "17c087c1",
   "metadata": {},
   "outputs": [
    {
     "data": {
      "text/plain": [
       "array(['Yangon', 'Naypyitaw', 'Mandalay'], dtype=object)"
      ]
     },
     "execution_count": 181,
     "metadata": {},
     "output_type": "execute_result"
    }
   ],
   "source": [
    "df.city.unique()"
   ]
  },
  {
   "cell_type": "code",
   "execution_count": 182,
   "id": "b28577b6",
   "metadata": {},
   "outputs": [
    {
     "data": {
      "text/plain": [
       "array(['Member', 'Normal'], dtype=object)"
      ]
     },
     "execution_count": 182,
     "metadata": {},
     "output_type": "execute_result"
    }
   ],
   "source": [
    "df.customer_type.unique()"
   ]
  },
  {
   "cell_type": "code",
   "execution_count": 183,
   "id": "1a37ee54",
   "metadata": {},
   "outputs": [
    {
     "data": {
      "text/plain": [
       "array(['Health and beauty', 'Electronic accessories',\n",
       "       'Home and lifestyle', 'Food and beverages', 'Fashion accessories',\n",
       "       'Sports and travel'], dtype=object)"
      ]
     },
     "execution_count": 183,
     "metadata": {},
     "output_type": "execute_result"
    }
   ],
   "source": [
    "df.product_line.unique()"
   ]
  },
  {
   "cell_type": "code",
   "execution_count": 184,
   "id": "856a6baf",
   "metadata": {},
   "outputs": [
    {
     "data": {
      "text/plain": [
       "array([ 7,  5,  6, 10,  2,  3,  4,  8,  1,  9])"
      ]
     },
     "execution_count": 184,
     "metadata": {},
     "output_type": "execute_result"
    }
   ],
   "source": [
    "df.quantity.unique()"
   ]
  },
  {
   "cell_type": "code",
   "execution_count": null,
   "id": "a823cfcc",
   "metadata": {},
   "outputs": [],
   "source": [
    "df.unit_price.unique()"
   ]
  },
  {
   "cell_type": "markdown",
   "id": "d2c16c0e",
   "metadata": {},
   "source": [
    "## Feature Engineering – Creating the total_sales Column\n",
    "\n",
    "To better understand the overall transaction value and prepare the dataset for predictive modeling, a new column named total_sales was created. This column represents the final amount paid by each customer after including the 5% tax on the subtotal (unit price × quantity). It was computed as:\n",
    "\n",
    "total_sales =(unit price × quantity) + tax_5%\n",
    "\n",
    "This engineered feature will serve as our target variable for the regression model aimed at predicting total sales per transaction."
   ]
  },
  {
   "cell_type": "code",
   "execution_count": 185,
   "id": "ae0832c0",
   "metadata": {},
   "outputs": [],
   "source": [
    "df['total_sales'] = df['unit_price'] * df['quantity'] + df['tax_5%']"
   ]
  },
  {
   "cell_type": "code",
   "execution_count": 186,
   "id": "4f2b2372",
   "metadata": {},
   "outputs": [
    {
     "data": {
      "text/html": [
       "<div>\n",
       "<style scoped>\n",
       "    .dataframe tbody tr th:only-of-type {\n",
       "        vertical-align: middle;\n",
       "    }\n",
       "\n",
       "    .dataframe tbody tr th {\n",
       "        vertical-align: top;\n",
       "    }\n",
       "\n",
       "    .dataframe thead th {\n",
       "        text-align: right;\n",
       "    }\n",
       "</style>\n",
       "<table border=\"1\" class=\"dataframe\">\n",
       "  <thead>\n",
       "    <tr style=\"text-align: right;\">\n",
       "      <th></th>\n",
       "      <th>gender</th>\n",
       "      <th>invoice_id</th>\n",
       "      <th>branch</th>\n",
       "      <th>city</th>\n",
       "      <th>customer_type</th>\n",
       "      <th>product_line</th>\n",
       "      <th>unit_price</th>\n",
       "      <th>quantity</th>\n",
       "      <th>tax_5%</th>\n",
       "      <th>total_sales</th>\n",
       "    </tr>\n",
       "  </thead>\n",
       "  <tbody>\n",
       "    <tr>\n",
       "      <th>0</th>\n",
       "      <td>Female</td>\n",
       "      <td>750-67-8428</td>\n",
       "      <td>A</td>\n",
       "      <td>Yangon</td>\n",
       "      <td>Member</td>\n",
       "      <td>Health and beauty</td>\n",
       "      <td>74.69</td>\n",
       "      <td>7</td>\n",
       "      <td>261.415</td>\n",
       "      <td>784.245</td>\n",
       "    </tr>\n",
       "    <tr>\n",
       "      <th>1</th>\n",
       "      <td>Female</td>\n",
       "      <td>226-31-3081</td>\n",
       "      <td>C</td>\n",
       "      <td>Naypyitaw</td>\n",
       "      <td>Normal</td>\n",
       "      <td>Electronic accessories</td>\n",
       "      <td>15.28</td>\n",
       "      <td>5</td>\n",
       "      <td>3.820</td>\n",
       "      <td>80.220</td>\n",
       "    </tr>\n",
       "    <tr>\n",
       "      <th>2</th>\n",
       "      <td>Female</td>\n",
       "      <td>355-53-5943</td>\n",
       "      <td>A</td>\n",
       "      <td>Yangon</td>\n",
       "      <td>Member</td>\n",
       "      <td>Electronic accessories</td>\n",
       "      <td>68.84</td>\n",
       "      <td>6</td>\n",
       "      <td>20.652</td>\n",
       "      <td>433.692</td>\n",
       "    </tr>\n",
       "    <tr>\n",
       "      <th>3</th>\n",
       "      <td>Female</td>\n",
       "      <td>315-22-5665</td>\n",
       "      <td>C</td>\n",
       "      <td>Naypyitaw</td>\n",
       "      <td>Normal</td>\n",
       "      <td>Home and lifestyle</td>\n",
       "      <td>73.56</td>\n",
       "      <td>10</td>\n",
       "      <td>36.780</td>\n",
       "      <td>772.380</td>\n",
       "    </tr>\n",
       "    <tr>\n",
       "      <th>4</th>\n",
       "      <td>Female</td>\n",
       "      <td>665-32-9167</td>\n",
       "      <td>A</td>\n",
       "      <td>Yangon</td>\n",
       "      <td>Member</td>\n",
       "      <td>Health and beauty</td>\n",
       "      <td>36.26</td>\n",
       "      <td>2</td>\n",
       "      <td>3.626</td>\n",
       "      <td>76.146</td>\n",
       "    </tr>\n",
       "  </tbody>\n",
       "</table>\n",
       "</div>"
      ],
      "text/plain": [
       "   gender   invoice_id branch       city customer_type  \\\n",
       "0  Female  750-67-8428      A     Yangon        Member   \n",
       "1  Female  226-31-3081      C  Naypyitaw        Normal   \n",
       "2  Female  355-53-5943      A     Yangon        Member   \n",
       "3  Female  315-22-5665      C  Naypyitaw        Normal   \n",
       "4  Female  665-32-9167      A     Yangon        Member   \n",
       "\n",
       "             product_line  unit_price  quantity   tax_5%  total_sales  \n",
       "0       Health and beauty       74.69         7  261.415      784.245  \n",
       "1  Electronic accessories       15.28         5    3.820       80.220  \n",
       "2  Electronic accessories       68.84         6   20.652      433.692  \n",
       "3      Home and lifestyle       73.56        10   36.780      772.380  \n",
       "4       Health and beauty       36.26         2    3.626       76.146  "
      ]
     },
     "execution_count": 186,
     "metadata": {},
     "output_type": "execute_result"
    }
   ],
   "source": [
    "df.head()"
   ]
  },
  {
   "cell_type": "markdown",
   "id": "b74393d0",
   "metadata": {},
   "source": [
    "## EDA"
   ]
  },
  {
   "cell_type": "code",
   "execution_count": 187,
   "id": "76d48919",
   "metadata": {},
   "outputs": [
    {
     "name": "stdout",
     "output_type": "stream",
     "text": [
      "product_line\n",
      "Fashion accessories       62055.8770\n",
      "Sports and travel         59979.2220\n",
      "Home and lifestyle        58948.2765\n",
      "Food and beverages        58818.4300\n",
      "Electronic accessories    57953.6640\n",
      "Health and beauty         53743.3020\n",
      "Name: total_sales, dtype: float64\n"
     ]
    },
    {
     "data": {
      "image/png": "[encoded data removed]",
      "text/plain": [
       "<Figure size 1000x500 with 1 Axes>"
      ]
     },
     "metadata": {},
     "output_type": "display_data"
    }
   ],
   "source": [
    "plt.figure(figsize=(10, 5))\n",
    "sales_by_product = df.groupby('product_line')['total_sales'].sum().sort_values(ascending=False)\n",
    "print(sales_by_product)\n",
    "\n",
    "sns.barplot(x=sales_by_product.index, y=sales_by_product.values, palette='viridis')\n",
    "plt.xticks(rotation=45)\n",
    "plt.title('Total Sales by Product Line')\n",
    "plt.ylabel('Total Sales')\n",
    "plt.xlabel('Product Line')\n",
    "plt.tight_layout()\n",
    "plt.show()"
   ]
  },
  {
   "cell_type": "markdown",
   "id": "0c65d82c",
   "metadata": {},
   "source": [
    "## Key Insight for Shareholders:\n",
    "Among all product lines, Fashion Accessories led with the highest total sales of ₦62,055.88, followed by Sports and Travel (₦59,979.22) and Home and Lifestyle (₦58,948.28). This indicates strong customer demand and consistent revenue from the fashion segment.\n",
    "\n",
    "## Strategic Recommendation:\n",
    "Consider investing more in marketing and inventory for Fashion Accessories to capitalize on its performance. Additionally, explore cross-selling opportunities with other high-performing categories to maximize overall sales."
   ]
  },
  {
   "cell_type": "code",
   "execution_count": 188,
   "id": "50bad955",
   "metadata": {},
   "outputs": [
    {
     "name": "stdout",
     "output_type": "stream",
     "text": [
      "gender\n",
      "Female    182578.1135\n",
      "Male      168920.6580\n",
      "Name: total_sales, dtype: float64\n"
     ]
    },
    {
     "data": {
      "image/png": "[encoded data removed]",
      "text/plain": [
       "<Figure size 1000x500 with 1 Axes>"
      ]
     },
     "metadata": {},
     "output_type": "display_data"
    }
   ],
   "source": [
    "plt.figure(figsize=(10, 5))\n",
    "sales_by_gender = df.groupby('gender')['total_sales'].sum().sort_values(ascending=False)\n",
    "print(sales_by_gender)\n",
    "\n",
    "sns.barplot(x=sales_by_gender.index, y=sales_by_gender.values, palette='viridis')\n",
    "plt.xticks(rotation=45)\n",
    "plt.title('Total Sales by gender')\n",
    "plt.ylabel('Total Sales')\n",
    "plt.xlabel('Gender')\n",
    "plt.tight_layout()\n",
    "plt.show()"
   ]
  },
  {
   "cell_type": "markdown",
   "id": "737f2fe2",
   "metadata": {},
   "source": [
    "## Key Insight for Shareholders:\n",
    "Female customers contributed the highest total sales at ₦182,578.11, outperforming Male customers who generated ₦168,920.66. This shows that women are driving a larger share of revenue.\n",
    "\n",
    "## Strategic Recommendation:\n",
    "Tailor marketing campaigns and product offerings to better target female customers, while also exploring strategies to increase engagement and spending among male customers."
   ]
  },
  {
   "cell_type": "code",
   "execution_count": 189,
   "id": "9c309b75",
   "metadata": {},
   "outputs": [
    {
     "name": "stdout",
     "output_type": "stream",
     "text": [
      "city\n",
      "Naypyitaw    121351.1070\n",
      "Yangon       116366.9470\n",
      "Mandalay     113780.7175\n",
      "Name: total_sales, dtype: float64\n"
     ]
    },
    {
     "data": {
      "image/png": "[encoded data removed]",
      "text/plain": [
       "<Figure size 800x500 with 1 Axes>"
      ]
     },
     "metadata": {},
     "output_type": "display_data"
    }
   ],
   "source": [
    "plt.figure(figsize=(8, 5))\n",
    "sales_by_city = df.groupby('city')['total_sales'].sum().sort_values(ascending=False)\n",
    "print(sales_by_city)\n",
    "\n",
    "sns.barplot(x=sales_by_city.index, y=sales_by_city.values, palette='viridis')\n",
    "plt.xticks(rotation=45)\n",
    "plt.title('Total Sales by City')\n",
    "plt.ylabel('Total Sales')\n",
    "plt.xlabel('City')\n",
    "plt.tight_layout()\n",
    "plt.show()"
   ]
  },
  {
   "cell_type": "code",
   "execution_count": 190,
   "id": "ecb09c76",
   "metadata": {},
   "outputs": [
    {
     "data": {
      "text/plain": [
       "Index(['gender', 'invoice_id', 'branch', 'city', 'customer_type',\n",
       "       'product_line', 'unit_price', 'quantity', 'tax_5%', 'total_sales'],\n",
       "      dtype='object')"
      ]
     },
     "execution_count": 190,
     "metadata": {},
     "output_type": "execute_result"
    }
   ],
   "source": [
    "df.columns"
   ]
  },
  {
   "cell_type": "code",
   "execution_count": 191,
   "id": "4a5ec421",
   "metadata": {},
   "outputs": [
    {
     "name": "stdout",
     "output_type": "stream",
     "text": [
      "branch\n",
      "C    121351.1070\n",
      "A    116366.9470\n",
      "B    113780.7175\n",
      "Name: total_sales, dtype: float64\n"
     ]
    },
    {
     "data": {
      "image/png": "[encoded data removed]",
      "text/plain": [
       "<Figure size 1000x500 with 1 Axes>"
      ]
     },
     "metadata": {},
     "output_type": "display_data"
    }
   ],
   "source": [
    "plt.figure(figsize=(10, 5))\n",
    "sales_by_branch = df.groupby('branch')['total_sales'].sum().sort_values(ascending=False)\n",
    "print(sales_by_branch)\n",
    "\n",
    "sns.barplot(x=sales_by_branch.index, y=sales_by_branch.values, palette='viridis')\n",
    "plt.xticks(rotation=45)\n",
    "plt.title('Total Sales by Branch')\n",
    "plt.ylabel('Total Sales')\n",
    "plt.xlabel('Branch')\n",
    "plt.tight_layout()\n",
    "plt.show()"
   ]
  },
  {
   "cell_type": "code",
   "execution_count": 192,
   "id": "b0013dfa",
   "metadata": {},
   "outputs": [
    {
     "data": {
      "text/html": [
       "<div>\n",
       "<style scoped>\n",
       "    .dataframe tbody tr th:only-of-type {\n",
       "        vertical-align: middle;\n",
       "    }\n",
       "\n",
       "    .dataframe tbody tr th {\n",
       "        vertical-align: top;\n",
       "    }\n",
       "\n",
       "    .dataframe thead th {\n",
       "        text-align: right;\n",
       "    }\n",
       "</style>\n",
       "<table border=\"1\" class=\"dataframe\">\n",
       "  <thead>\n",
       "    <tr style=\"text-align: right;\">\n",
       "      <th></th>\n",
       "      <th>gender</th>\n",
       "      <th>invoice_id</th>\n",
       "      <th>branch</th>\n",
       "      <th>city</th>\n",
       "      <th>customer_type</th>\n",
       "      <th>product_line</th>\n",
       "      <th>unit_price</th>\n",
       "      <th>quantity</th>\n",
       "      <th>tax_5%</th>\n",
       "      <th>total_sales</th>\n",
       "    </tr>\n",
       "  </thead>\n",
       "  <tbody>\n",
       "    <tr>\n",
       "      <th>1</th>\n",
       "      <td>Female</td>\n",
       "      <td>226-31-3081</td>\n",
       "      <td>C</td>\n",
       "      <td>Naypyitaw</td>\n",
       "      <td>Normal</td>\n",
       "      <td>Electronic accessories</td>\n",
       "      <td>15.28</td>\n",
       "      <td>5</td>\n",
       "      <td>3.8200</td>\n",
       "      <td>80.2200</td>\n",
       "    </tr>\n",
       "    <tr>\n",
       "      <th>3</th>\n",
       "      <td>Female</td>\n",
       "      <td>315-22-5665</td>\n",
       "      <td>C</td>\n",
       "      <td>Naypyitaw</td>\n",
       "      <td>Normal</td>\n",
       "      <td>Home and lifestyle</td>\n",
       "      <td>73.56</td>\n",
       "      <td>10</td>\n",
       "      <td>36.7800</td>\n",
       "      <td>772.3800</td>\n",
       "    </tr>\n",
       "    <tr>\n",
       "      <th>15</th>\n",
       "      <td>Female</td>\n",
       "      <td>183-56-6882</td>\n",
       "      <td>C</td>\n",
       "      <td>Naypyitaw</td>\n",
       "      <td>Member</td>\n",
       "      <td>Food and beverages</td>\n",
       "      <td>99.42</td>\n",
       "      <td>4</td>\n",
       "      <td>19.8840</td>\n",
       "      <td>417.5640</td>\n",
       "    </tr>\n",
       "    <tr>\n",
       "      <th>16</th>\n",
       "      <td>Female</td>\n",
       "      <td>232-16-2483</td>\n",
       "      <td>C</td>\n",
       "      <td>Naypyitaw</td>\n",
       "      <td>Member</td>\n",
       "      <td>Sports and travel</td>\n",
       "      <td>68.12</td>\n",
       "      <td>1</td>\n",
       "      <td>3.4060</td>\n",
       "      <td>71.5260</td>\n",
       "    </tr>\n",
       "    <tr>\n",
       "      <th>18</th>\n",
       "      <td>Female</td>\n",
       "      <td>333-73-7901</td>\n",
       "      <td>C</td>\n",
       "      <td>Naypyitaw</td>\n",
       "      <td>Normal</td>\n",
       "      <td>Health and beauty</td>\n",
       "      <td>54.92</td>\n",
       "      <td>8</td>\n",
       "      <td>21.9680</td>\n",
       "      <td>461.3280</td>\n",
       "    </tr>\n",
       "    <tr>\n",
       "      <th>...</th>\n",
       "      <td>...</td>\n",
       "      <td>...</td>\n",
       "      <td>...</td>\n",
       "      <td>...</td>\n",
       "      <td>...</td>\n",
       "      <td>...</td>\n",
       "      <td>...</td>\n",
       "      <td>...</td>\n",
       "      <td>...</td>\n",
       "      <td>...</td>\n",
       "    </tr>\n",
       "    <tr>\n",
       "      <th>988</th>\n",
       "      <td>Male</td>\n",
       "      <td>728-47-9078</td>\n",
       "      <td>C</td>\n",
       "      <td>Naypyitaw</td>\n",
       "      <td>Member</td>\n",
       "      <td>Food and beverages</td>\n",
       "      <td>59.59</td>\n",
       "      <td>4</td>\n",
       "      <td>11.9180</td>\n",
       "      <td>250.2780</td>\n",
       "    </tr>\n",
       "    <tr>\n",
       "      <th>990</th>\n",
       "      <td>Male</td>\n",
       "      <td>148-41-7930</td>\n",
       "      <td>C</td>\n",
       "      <td>Naypyitaw</td>\n",
       "      <td>Normal</td>\n",
       "      <td>Health and beauty</td>\n",
       "      <td>99.96</td>\n",
       "      <td>7</td>\n",
       "      <td>34.9860</td>\n",
       "      <td>734.7060</td>\n",
       "    </tr>\n",
       "    <tr>\n",
       "      <th>991</th>\n",
       "      <td>Male</td>\n",
       "      <td>189-40-5216</td>\n",
       "      <td>C</td>\n",
       "      <td>Naypyitaw</td>\n",
       "      <td>Normal</td>\n",
       "      <td>Electronic accessories</td>\n",
       "      <td>96.37</td>\n",
       "      <td>7</td>\n",
       "      <td>337.2950</td>\n",
       "      <td>1011.8850</td>\n",
       "    </tr>\n",
       "    <tr>\n",
       "      <th>993</th>\n",
       "      <td>Male</td>\n",
       "      <td>267-62-7380</td>\n",
       "      <td>C</td>\n",
       "      <td>Naypyitaw</td>\n",
       "      <td>Member</td>\n",
       "      <td>Electronic accessories</td>\n",
       "      <td>82.34</td>\n",
       "      <td>10</td>\n",
       "      <td>41.1700</td>\n",
       "      <td>864.5700</td>\n",
       "    </tr>\n",
       "    <tr>\n",
       "      <th>997</th>\n",
       "      <td>Male</td>\n",
       "      <td>233-67-5758</td>\n",
       "      <td>C</td>\n",
       "      <td>Naypyitaw</td>\n",
       "      <td>Normal</td>\n",
       "      <td>Health and beauty</td>\n",
       "      <td>40.35</td>\n",
       "      <td>1</td>\n",
       "      <td>2.0175</td>\n",
       "      <td>42.3675</td>\n",
       "    </tr>\n",
       "  </tbody>\n",
       "</table>\n",
       "<p>328 rows × 10 columns</p>\n",
       "</div>"
      ],
      "text/plain": [
       "     gender   invoice_id branch       city customer_type  \\\n",
       "1    Female  226-31-3081      C  Naypyitaw        Normal   \n",
       "3    Female  315-22-5665      C  Naypyitaw        Normal   \n",
       "15   Female  183-56-6882      C  Naypyitaw        Member   \n",
       "16   Female  232-16-2483      C  Naypyitaw        Member   \n",
       "18   Female  333-73-7901      C  Naypyitaw        Normal   \n",
       "..      ...          ...    ...        ...           ...   \n",
       "988    Male  728-47-9078      C  Naypyitaw        Member   \n",
       "990    Male  148-41-7930      C  Naypyitaw        Normal   \n",
       "991    Male  189-40-5216      C  Naypyitaw        Normal   \n",
       "993    Male  267-62-7380      C  Naypyitaw        Member   \n",
       "997    Male  233-67-5758      C  Naypyitaw        Normal   \n",
       "\n",
       "               product_line  unit_price  quantity    tax_5%  total_sales  \n",
       "1    Electronic accessories       15.28         5    3.8200      80.2200  \n",
       "3        Home and lifestyle       73.56        10   36.7800     772.3800  \n",
       "15       Food and beverages       99.42         4   19.8840     417.5640  \n",
       "16        Sports and travel       68.12         1    3.4060      71.5260  \n",
       "18        Health and beauty       54.92         8   21.9680     461.3280  \n",
       "..                      ...         ...       ...       ...          ...  \n",
       "988      Food and beverages       59.59         4   11.9180     250.2780  \n",
       "990       Health and beauty       99.96         7   34.9860     734.7060  \n",
       "991  Electronic accessories       96.37         7  337.2950    1011.8850  \n",
       "993  Electronic accessories       82.34        10   41.1700     864.5700  \n",
       "997       Health and beauty       40.35         1    2.0175      42.3675  \n",
       "\n",
       "[328 rows x 10 columns]"
      ]
     },
     "execution_count": 192,
     "metadata": {},
     "output_type": "execute_result"
    }
   ],
   "source": [
    "df[df['branch'] == 'C']"
   ]
  },
  {
   "cell_type": "markdown",
   "id": "5d5d3a93",
   "metadata": {},
   "source": [
    "## Key Insight for Shareholders:\n",
    "\n",
    "Naypyitaw generated the highest total sales at ₦121,351.11, followed by Yangon (₦116,366.95) and Mandalay (₦113,780.72).\n",
    "\n",
    "Each city aligns directly with a branch:\n",
    "\n",
    "Branch A → Yangon\n",
    "\n",
    "Branch B → Mandalay\n",
    "\n",
    "Branch C → Naypyitaw\n",
    "\n",
    "## Recommendation:\n",
    "Focus on expanding operations and customer retention strategies in Naypyitaw (Branch C), while exploring targeted promotions in Yangon and Mandalay to close the sales gap."
   ]
  },
  {
   "cell_type": "code",
   "execution_count": 193,
   "id": "bb3aa9b3",
   "metadata": {},
   "outputs": [
    {
     "name": "stdout",
     "output_type": "stream",
     "text": [
      "customer_type\n",
      "Member    179208.4145\n",
      "Normal    172290.3570\n",
      "Name: total_sales, dtype: float64\n"
     ]
    },
    {
     "data": {
      "image/png": "[encoded data removed]",
      "text/plain": [
       "<Figure size 1000x500 with 1 Axes>"
      ]
     },
     "metadata": {},
     "output_type": "display_data"
    }
   ],
   "source": [
    "plt.figure(figsize=(10, 5))\n",
    "sales_by_customer_type = df.groupby('customer_type')['total_sales'].sum().sort_values(ascending=False)\n",
    "print(sales_by_customer_type)\n",
    "\n",
    "sns.barplot(x=sales_by_customer_type.index, y=sales_by_customer_type.values, palette='viridis')\n",
    "plt.xticks(rotation=45)\n",
    "plt.title('Total Sales by Customer_Type')\n",
    "plt.ylabel('Total Sales')\n",
    "plt.xlabel('Customer_Type')\n",
    "plt.tight_layout()\n",
    "plt.show()"
   ]
  },
  {
   "cell_type": "markdown",
   "id": "2742a0d6",
   "metadata": {},
   "source": [
    "## Key Insight for Shareholders:\n",
    "Members generated more total sales (₦179,208.41) than normal (non-member) customers (₦172,290.36).\n",
    "\n",
    "## Recommendation:\n",
    "This shows that membership programs are working. To boost revenue, we should encourage more customers to become members by offering exclusive deals or benefits."
   ]
  },
  {
   "cell_type": "code",
   "execution_count": 194,
   "id": "711dfb3f",
   "metadata": {},
   "outputs": [
    {
     "name": "stdout",
     "output_type": "stream",
     "text": [
      "quantity\n",
      "10    69928.9500\n",
      "9     58324.4975\n",
      "7     51544.4475\n",
      "8     40316.3040\n",
      "6     34455.2040\n",
      "5     31278.0825\n",
      "4     25247.9220\n",
      "3     16710.6195\n",
      "1     12697.9425\n",
      "2     10994.8020\n",
      "Name: total_sales, dtype: float64\n"
     ]
    },
    {
     "data": {
      "image/png": "[encoded data removed]",
      "text/plain": [
       "<Figure size 600x500 with 1 Axes>"
      ]
     },
     "metadata": {},
     "output_type": "display_data"
    }
   ],
   "source": [
    "plt.figure(figsize=(6, 5))\n",
    "sales_by_quantity = df.groupby('quantity')['total_sales'].sum().sort_values(ascending=False)\n",
    "print(sales_by_quantity)\n",
    "\n",
    "sns.barplot(x=sales_by_quantity.index, y=sales_by_quantity.values, palette='viridis')\n",
    "plt.xticks(rotation=45)\n",
    "plt.title('Total Sales by Quantity')\n",
    "plt.ylabel('Total Sales')\n",
    "plt.xlabel('Quantity')\n",
    "plt.tight_layout()\n",
    "plt.show()"
   ]
  },
  {
   "cell_type": "markdown",
   "id": "45db5a40",
   "metadata": {},
   "source": [
    "## Key Insight for Shareholders:\n",
    "Purchases of 10 items generated the highest total sales (₦69,928.95), followed by quantities of 9 and 7.\n",
    "\n",
    "## Recommendation:\n",
    "Consider introducing bulk purchase discounts or bundle deals to encourage higher quantity purchases, as they clearly contribute more to total revenue."
   ]
  },
  {
   "cell_type": "code",
   "execution_count": 195,
   "id": "a447c987",
   "metadata": {},
   "outputs": [
    {
     "data": {
      "text/html": [
       "<div>\n",
       "<style scoped>\n",
       "    .dataframe tbody tr th:only-of-type {\n",
       "        vertical-align: middle;\n",
       "    }\n",
       "\n",
       "    .dataframe tbody tr th {\n",
       "        vertical-align: top;\n",
       "    }\n",
       "\n",
       "    .dataframe thead th {\n",
       "        text-align: right;\n",
       "    }\n",
       "</style>\n",
       "<table border=\"1\" class=\"dataframe\">\n",
       "  <thead>\n",
       "    <tr style=\"text-align: right;\">\n",
       "      <th></th>\n",
       "      <th>unit_price</th>\n",
       "      <th>quantity</th>\n",
       "      <th>tax_5%</th>\n",
       "      <th>total_sales</th>\n",
       "    </tr>\n",
       "  </thead>\n",
       "  <tbody>\n",
       "    <tr>\n",
       "      <th>count</th>\n",
       "      <td>1000.000000</td>\n",
       "      <td>1000.000000</td>\n",
       "      <td>1000.000000</td>\n",
       "      <td>1000.000000</td>\n",
       "    </tr>\n",
       "    <tr>\n",
       "      <th>mean</th>\n",
       "      <td>55.672130</td>\n",
       "      <td>5.510000</td>\n",
       "      <td>43.911392</td>\n",
       "      <td>351.498772</td>\n",
       "    </tr>\n",
       "    <tr>\n",
       "      <th>std</th>\n",
       "      <td>26.494628</td>\n",
       "      <td>2.923431</td>\n",
       "      <td>100.551612</td>\n",
       "      <td>278.350063</td>\n",
       "    </tr>\n",
       "    <tr>\n",
       "      <th>min</th>\n",
       "      <td>10.080000</td>\n",
       "      <td>1.000000</td>\n",
       "      <td>1.066000</td>\n",
       "      <td>15.255000</td>\n",
       "    </tr>\n",
       "    <tr>\n",
       "      <th>25%</th>\n",
       "      <td>32.875000</td>\n",
       "      <td>3.000000</td>\n",
       "      <td>6.222500</td>\n",
       "      <td>127.968750</td>\n",
       "    </tr>\n",
       "    <tr>\n",
       "      <th>50%</th>\n",
       "      <td>55.230000</td>\n",
       "      <td>5.000000</td>\n",
       "      <td>12.404000</td>\n",
       "      <td>260.484000</td>\n",
       "    </tr>\n",
       "    <tr>\n",
       "      <th>75%</th>\n",
       "      <td>77.935000</td>\n",
       "      <td>8.000000</td>\n",
       "      <td>27.226250</td>\n",
       "      <td>525.861000</td>\n",
       "    </tr>\n",
       "    <tr>\n",
       "      <th>max</th>\n",
       "      <td>99.960000</td>\n",
       "      <td>10.000000</td>\n",
       "      <td>985.000000</td>\n",
       "      <td>1346.355000</td>\n",
       "    </tr>\n",
       "  </tbody>\n",
       "</table>\n",
       "</div>"
      ],
      "text/plain": [
       "        unit_price     quantity       tax_5%  total_sales\n",
       "count  1000.000000  1000.000000  1000.000000  1000.000000\n",
       "mean     55.672130     5.510000    43.911392   351.498772\n",
       "std      26.494628     2.923431   100.551612   278.350063\n",
       "min      10.080000     1.000000     1.066000    15.255000\n",
       "25%      32.875000     3.000000     6.222500   127.968750\n",
       "50%      55.230000     5.000000    12.404000   260.484000\n",
       "75%      77.935000     8.000000    27.226250   525.861000\n",
       "max      99.960000    10.000000   985.000000  1346.355000"
      ]
     },
     "execution_count": 195,
     "metadata": {},
     "output_type": "execute_result"
    }
   ],
   "source": [
    "# Statistic summary for numerical varaiables\n",
    "df.describe()"
   ]
  },
  {
   "cell_type": "code",
   "execution_count": 196,
   "id": "3a1dde9f",
   "metadata": {},
   "outputs": [
    {
     "data": {
      "text/html": [
       "<div>\n",
       "<style scoped>\n",
       "    .dataframe tbody tr th:only-of-type {\n",
       "        vertical-align: middle;\n",
       "    }\n",
       "\n",
       "    .dataframe tbody tr th {\n",
       "        vertical-align: top;\n",
       "    }\n",
       "\n",
       "    .dataframe thead th {\n",
       "        text-align: right;\n",
       "    }\n",
       "</style>\n",
       "<table border=\"1\" class=\"dataframe\">\n",
       "  <thead>\n",
       "    <tr style=\"text-align: right;\">\n",
       "      <th></th>\n",
       "      <th>gender</th>\n",
       "      <th>invoice_id</th>\n",
       "      <th>branch</th>\n",
       "      <th>city</th>\n",
       "      <th>customer_type</th>\n",
       "      <th>product_line</th>\n",
       "    </tr>\n",
       "  </thead>\n",
       "  <tbody>\n",
       "    <tr>\n",
       "      <th>count</th>\n",
       "      <td>1000</td>\n",
       "      <td>1000</td>\n",
       "      <td>1000</td>\n",
       "      <td>1000</td>\n",
       "      <td>1000</td>\n",
       "      <td>1000</td>\n",
       "    </tr>\n",
       "    <tr>\n",
       "      <th>unique</th>\n",
       "      <td>2</td>\n",
       "      <td>1000</td>\n",
       "      <td>3</td>\n",
       "      <td>3</td>\n",
       "      <td>2</td>\n",
       "      <td>6</td>\n",
       "    </tr>\n",
       "    <tr>\n",
       "      <th>top</th>\n",
       "      <td>Female</td>\n",
       "      <td>750-67-8428</td>\n",
       "      <td>A</td>\n",
       "      <td>Yangon</td>\n",
       "      <td>Member</td>\n",
       "      <td>Fashion accessories</td>\n",
       "    </tr>\n",
       "    <tr>\n",
       "      <th>freq</th>\n",
       "      <td>501</td>\n",
       "      <td>1</td>\n",
       "      <td>340</td>\n",
       "      <td>340</td>\n",
       "      <td>501</td>\n",
       "      <td>178</td>\n",
       "    </tr>\n",
       "  </tbody>\n",
       "</table>\n",
       "</div>"
      ],
      "text/plain": [
       "        gender   invoice_id branch    city customer_type         product_line\n",
       "count     1000         1000   1000    1000          1000                 1000\n",
       "unique       2         1000      3       3             2                    6\n",
       "top     Female  750-67-8428      A  Yangon        Member  Fashion accessories\n",
       "freq       501            1    340     340           501                  178"
      ]
     },
     "execution_count": 196,
     "metadata": {},
     "output_type": "execute_result"
    }
   ],
   "source": [
    "# Statistic summary for non-numerical varaiables\n",
    "df.describe(include='object')"
   ]
  },
  {
   "cell_type": "code",
   "execution_count": 197,
   "id": "57cb0935",
   "metadata": {},
   "outputs": [
    {
     "data": {
      "image/png": "[encoded data removed]",
      "text/plain": [
       "<Figure size 800x600 with 2 Axes>"
      ]
     },
     "metadata": {},
     "output_type": "display_data"
    }
   ],
   "source": [
    "correlation_matrix = df.corr(numeric_only=True)\n",
    "\n",
    "plt.figure(figsize=(8, 6))\n",
    "sns.heatmap(correlation_matrix, annot=True, cmap='coolwarm', linewidths=0.5)\n",
    "plt.title(\"Correlation Matrix\")\n",
    "plt.show()"
   ]
  },
  {
   "cell_type": "markdown",
   "id": "4aa76a61",
   "metadata": {},
   "source": [
    "### Insight:\n",
    "Total sales show a strong positive correlation with both quantity sold (0.64) and unit price (0.58). This indicates that revenue is primarily driven by the volume of products sold and their pricing.\n",
    "\n",
    "### Recommendation:\n",
    "Focus on strategies that encourage higher purchase quantities and maintain optimal pricing to maximize revenue."
   ]
  },
  {
   "cell_type": "code",
   "execution_count": 198,
   "id": "2e4dcd56",
   "metadata": {},
   "outputs": [
    {
     "data": {
      "image/png": "[encoded data removed]",
      "text/plain": [
       "<Figure size 800x500 with 1 Axes>"
      ]
     },
     "metadata": {},
     "output_type": "display_data"
    }
   ],
   "source": [
    "## Visualizing the distribution of total sales\n",
    "plt.figure(figsize=(8, 5))\n",
    "sns.histplot(df['total_sales'], kde=True, bins=30, color='skyblue')\n",
    "plt.title('Distribution of Total Sales')\n",
    "plt.xlabel('Total_Sales')\n",
    "plt.ylabel('Frequency')\n",
    "plt.show()"
   ]
  },
  {
   "cell_type": "code",
   "execution_count": 199,
   "id": "62079990",
   "metadata": {},
   "outputs": [
    {
     "data": {
      "text/plain": [
       "\"df['log_total_sales'] = np.log1p(df['total_sales'])  \\n\\n# Check transformed distribution\\nplt.figure(figsize=(10,4))\\nsns.histplot(df['log_total_sales'], bins=30, kde=True, color='green')\\nplt.title('Log-Transformed Distribution of Total Sales')\\nplt.show()\""
      ]
     },
     "execution_count": 199,
     "metadata": {},
     "output_type": "execute_result"
    }
   ],
   "source": [
    "# Applying log transformation to total_sales to normalise distribution\n",
    "'''df['log_total_sales'] = np.log1p(df['total_sales'])  \n",
    "\n",
    "# Check transformed distribution\n",
    "plt.figure(figsize=(10,4))\n",
    "sns.histplot(df['log_total_sales'], bins=30, kde=True, color='green')\n",
    "plt.title('Log-Transformed Distribution of Total Sales')\n",
    "plt.show()'''"
   ]
  },
  {
   "cell_type": "markdown",
   "id": "217188da",
   "metadata": {},
   "source": [
    "The distribution of total_sales is right-skewed, with potential outliers influencing the tail. To correct for this, a log transformation was applied using log1p, resulting in a more normalized distribution. This transformation is essential for improving model performance and interpretability, especially for linear regression models."
   ]
  },
  {
   "cell_type": "code",
   "execution_count": 200,
   "id": "9306b344",
   "metadata": {},
   "outputs": [
    {
     "data": {
      "text/html": [
       "<div>\n",
       "<style scoped>\n",
       "    .dataframe tbody tr th:only-of-type {\n",
       "        vertical-align: middle;\n",
       "    }\n",
       "\n",
       "    .dataframe tbody tr th {\n",
       "        vertical-align: top;\n",
       "    }\n",
       "\n",
       "    .dataframe thead th {\n",
       "        text-align: right;\n",
       "    }\n",
       "</style>\n",
       "<table border=\"1\" class=\"dataframe\">\n",
       "  <thead>\n",
       "    <tr style=\"text-align: right;\">\n",
       "      <th></th>\n",
       "      <th>gender</th>\n",
       "      <th>invoice_id</th>\n",
       "      <th>branch</th>\n",
       "      <th>city</th>\n",
       "      <th>customer_type</th>\n",
       "      <th>product_line</th>\n",
       "      <th>unit_price</th>\n",
       "      <th>quantity</th>\n",
       "      <th>tax_5%</th>\n",
       "      <th>total_sales</th>\n",
       "    </tr>\n",
       "  </thead>\n",
       "  <tbody>\n",
       "    <tr>\n",
       "      <th>0</th>\n",
       "      <td>0</td>\n",
       "      <td>750-67-8428</td>\n",
       "      <td>0</td>\n",
       "      <td>2</td>\n",
       "      <td>0</td>\n",
       "      <td>3</td>\n",
       "      <td>74.69</td>\n",
       "      <td>7</td>\n",
       "      <td>261.415</td>\n",
       "      <td>784.245</td>\n",
       "    </tr>\n",
       "    <tr>\n",
       "      <th>1</th>\n",
       "      <td>0</td>\n",
       "      <td>226-31-3081</td>\n",
       "      <td>2</td>\n",
       "      <td>1</td>\n",
       "      <td>1</td>\n",
       "      <td>0</td>\n",
       "      <td>15.28</td>\n",
       "      <td>5</td>\n",
       "      <td>3.820</td>\n",
       "      <td>80.220</td>\n",
       "    </tr>\n",
       "    <tr>\n",
       "      <th>2</th>\n",
       "      <td>0</td>\n",
       "      <td>355-53-5943</td>\n",
       "      <td>0</td>\n",
       "      <td>2</td>\n",
       "      <td>0</td>\n",
       "      <td>0</td>\n",
       "      <td>68.84</td>\n",
       "      <td>6</td>\n",
       "      <td>20.652</td>\n",
       "      <td>433.692</td>\n",
       "    </tr>\n",
       "    <tr>\n",
       "      <th>3</th>\n",
       "      <td>0</td>\n",
       "      <td>315-22-5665</td>\n",
       "      <td>2</td>\n",
       "      <td>1</td>\n",
       "      <td>1</td>\n",
       "      <td>4</td>\n",
       "      <td>73.56</td>\n",
       "      <td>10</td>\n",
       "      <td>36.780</td>\n",
       "      <td>772.380</td>\n",
       "    </tr>\n",
       "    <tr>\n",
       "      <th>4</th>\n",
       "      <td>0</td>\n",
       "      <td>665-32-9167</td>\n",
       "      <td>0</td>\n",
       "      <td>2</td>\n",
       "      <td>0</td>\n",
       "      <td>3</td>\n",
       "      <td>36.26</td>\n",
       "      <td>2</td>\n",
       "      <td>3.626</td>\n",
       "      <td>76.146</td>\n",
       "    </tr>\n",
       "  </tbody>\n",
       "</table>\n",
       "</div>"
      ],
      "text/plain": [
       "   gender   invoice_id  branch  city  customer_type  product_line  unit_price  \\\n",
       "0       0  750-67-8428       0     2              0             3       74.69   \n",
       "1       0  226-31-3081       2     1              1             0       15.28   \n",
       "2       0  355-53-5943       0     2              0             0       68.84   \n",
       "3       0  315-22-5665       2     1              1             4       73.56   \n",
       "4       0  665-32-9167       0     2              0             3       36.26   \n",
       "\n",
       "   quantity   tax_5%  total_sales  \n",
       "0         7  261.415      784.245  \n",
       "1         5    3.820       80.220  \n",
       "2         6   20.652      433.692  \n",
       "3        10   36.780      772.380  \n",
       "4         2    3.626       76.146  "
      ]
     },
     "execution_count": 200,
     "metadata": {},
     "output_type": "execute_result"
    }
   ],
   "source": [
    "from sklearn.preprocessing import LabelEncoder;\n",
    "def label_encoder(df, x, encoders):\n",
    "    le = LabelEncoder()\n",
    "    df[x] = le.fit_transform(df[x])\n",
    "    encoders[x] = le  # Store the fitted encoder in the dictionary\n",
    "\n",
    "# Creating a list of our labels we have\n",
    "label_list =['gender', 'customer_type', 'city', 'branch', 'product_line']\n",
    "\n",
    "# Initialize a dictionary to store the LabelEncoder objects\n",
    "label_encoders = {}\n",
    "\n",
    "#looping and encoding our list we have:\n",
    "for i in label_list:\n",
    "    label_encoder(df, i, label_encoders)\n",
    "    \n",
    "#displaying our transform data we have:\n",
    "df.head()"
   ]
  },
  {
   "cell_type": "markdown",
   "id": "4aaae2f0",
   "metadata": {},
   "source": [
    "## Model Training\n",
    "\n",
    "We will split the data into training and test data."
   ]
  },
  {
   "cell_type": "code",
   "execution_count": 201,
   "id": "b6bc89a3",
   "metadata": {},
   "outputs": [],
   "source": [
    "from sklearn.model_selection import train_test_split\n",
    "from sklearn.linear_model import LinearRegression\n",
    "from sklearn.tree import DecisionTreeRegressor\n",
    "from sklearn.ensemble import RandomForestRegressor, GradientBoostingRegressor\n",
    "from sklearn.svm import SVR\n",
    "from sklearn.metrics import mean_absolute_error, mean_squared_error, r2_score\n",
    "from sklearn.model_selection import cross_val_score\n",
    "from sklearn.model_selection import GridSearchCV"
   ]
  },
  {
   "cell_type": "code",
   "execution_count": 202,
   "id": "7f6892ca",
   "metadata": {},
   "outputs": [
    {
     "name": "stdout",
     "output_type": "stream",
     "text": [
      "Training Features: (800, 8)\n",
      "Testing Features: (200, 8)\n",
      "Training Labels: (800,)\n",
      "Testing Labels: (200,)\n"
     ]
    }
   ],
   "source": [
    "# Features and Target\n",
    "X = df.drop(['total_sales', 'invoice_id'], axis=1)\n",
    "y = df['total_sales']             \n",
    "\n",
    "# Train-test split (80% train, 20% test)\n",
    "X_train, X_test, y_train, y_test = train_test_split(\n",
    "    X, y, test_size=0.2, random_state=42\n",
    ")\n",
    "\n",
    "# Check the shapes\n",
    "print(\"Training Features:\", X_train.shape)\n",
    "print(\"Testing Features:\", X_test.shape)\n",
    "print(\"Training Labels:\", y_train.shape)\n",
    "print(\"Testing Labels:\", y_test.shape)"
   ]
  },
  {
   "cell_type": "code",
   "execution_count": 203,
   "id": "2869e0ab",
   "metadata": {},
   "outputs": [],
   "source": [
    "from sklearn.preprocessing import StandardScaler\n",
    "\n",
    "\n",
    "scaler = StandardScaler()\n",
    "X_train_scaled = scaler.fit_transform(X_train)\n",
    "X_test_scaled = scaler.transform(X_test)"
   ]
  },
  {
   "cell_type": "markdown",
   "id": "9364d31f",
   "metadata": {},
   "source": [
    "## Linear Regression"
   ]
  },
  {
   "cell_type": "code",
   "execution_count": 204,
   "id": "27824255",
   "metadata": {},
   "outputs": [
    {
     "name": "stdout",
     "output_type": "stream",
     "text": [
      "Mean Absolute Error (MAE): 64.26\n",
      "Root Mean Squared Error (RMSE): 81.90\n",
      "R-squared: 0.93\n"
     ]
    }
   ],
   "source": [
    "reg = LinearRegression()\n",
    "accuracies = cross_val_score(reg, X_train_scaled, y_train, cv=5, scoring='r2')\n",
    "reg.fit(X_train_scaled, y_train)\n",
    "\n",
    "X_test_scaled = scaler.transform(X_test)\n",
    "y_pred = reg.predict(X_test_scaled)\n",
    "\n",
    "# Evaluation metrics\n",
    "mae = mean_absolute_error(y_test, y_pred)\n",
    "rmse = np.sqrt(mean_squared_error(y_test, y_pred))  # use MSE here\n",
    "r2 = r2_score(y_test, y_pred)\n",
    "\n",
    "# Print results\n",
    "print(f\"Mean Absolute Error (MAE): {mae:.2f}\")\n",
    "print(f\"Root Mean Squared Error (RMSE): {rmse:.2f}\")\n",
    "print(f\"R-squared: {r2:.2f}\")"
   ]
  },
  {
   "cell_type": "markdown",
   "id": "da4a4960",
   "metadata": {},
   "source": [
    "## Decision Tree Regressor"
   ]
  },
  {
   "cell_type": "code",
   "execution_count": 205,
   "id": "26fee5eb",
   "metadata": {},
   "outputs": [
    {
     "name": "stdout",
     "output_type": "stream",
     "text": [
      "Best Hyperparameters: {'max_depth': None, 'max_features': None, 'min_samples_leaf': 1, 'min_samples_split': 2}\n",
      "Decision Tree Regressor (Tuned) Results:\n",
      "Mean Absolute Error (MAE): 4.81\n",
      "Root Mean Squared Error (RMSE): 18.27\n",
      "R-squared: 1.00\n"
     ]
    }
   ],
   "source": [
    "param_grid = {\n",
    "    'max_depth': [None, 5, 10, 20],\n",
    "    'min_samples_split': [2, 5, 10],\n",
    "    'min_samples_leaf': [1, 2, 4],\n",
    "    'max_features': [None, 'sqrt', 'log2']\n",
    "}\n",
    "\n",
    "# Initialize model\n",
    "tree = DecisionTreeRegressor(random_state=42)\n",
    "\n",
    "# Grid Search with 5-fold CV\n",
    "grid_search_tree = GridSearchCV(tree, param_grid, cv=5, scoring='r2', n_jobs=-1)\n",
    "grid_search_tree.fit(X_train_scaled, y_train)\n",
    "\n",
    "# Best estimator\n",
    "best_tree = grid_search_tree.best_estimator_\n",
    "\n",
    "# Predict\n",
    "y_pred_tree = best_tree.predict(X_test_scaled)\n",
    "\n",
    "# Evaluation metrics\n",
    "mae_tree = mean_absolute_error(y_test, y_pred_tree)\n",
    "rmse_tree = np.sqrt(mean_squared_error(y_test, y_pred_tree))\n",
    "r2_tree = r2_score(y_test, y_pred_tree)\n",
    "\n",
    "# Print results\n",
    "print(\"Best Hyperparameters:\", grid_search_tree.best_params_)\n",
    "print(\"Decision Tree Regressor (Tuned) Results:\")\n",
    "print(f\"Mean Absolute Error (MAE): {mae_tree:.2f}\")\n",
    "print(f\"Root Mean Squared Error (RMSE): {rmse_tree:.2f}\")\n",
    "print(f\"R-squared: {r2_tree:.2f}\")"
   ]
  },
  {
   "cell_type": "markdown",
   "id": "d43c7b67",
   "metadata": {},
   "source": [
    "## Random Forest Regressor"
   ]
  },
  {
   "cell_type": "code",
   "execution_count": 206,
   "id": "d64e03f8",
   "metadata": {},
   "outputs": [
    {
     "name": "stdout",
     "output_type": "stream",
     "text": [
      "Fitting 5 folds for each of 20 candidates, totalling 100 fits\n",
      "Best Hyperparameters:\n",
      " {'max_depth': 10, 'max_features': 'log2', 'min_samples_leaf': 1, 'min_samples_split': 5, 'n_estimators': 139}\n",
      "\n",
      "Tuned Random Forest Regressor Results (RandomizedSearchCV):\n",
      "Mean Absolute Error (MAE): 15.73\n",
      "Root Mean Squared Error (RMSE): 33.92\n",
      "R-squared: 0.99\n"
     ]
    }
   ],
   "source": [
    "from sklearn.model_selection import RandomizedSearchCV\n",
    "from scipy.stats import randint\n",
    "\n",
    "param_dist = {\n",
    "    'n_estimators': randint(100, 300),\n",
    "    'max_depth': [None, 10, 20, 30],\n",
    "    'min_samples_split': [2, 5, 10],\n",
    "    'min_samples_leaf': [1, 2, 4],\n",
    "    'max_features': ['auto', 'sqrt', 'log2']\n",
    "}\n",
    "\n",
    "# Initialize the model\n",
    "rf = RandomForestRegressor(random_state=42)\n",
    "\n",
    "# Randomized Search with 5-fold cross-validation\n",
    "random_search = RandomizedSearchCV(\n",
    "    estimator=rf,\n",
    "    param_distributions=param_dist,\n",
    "    n_iter=20,  # number of random combinations to try\n",
    "    scoring='r2',\n",
    "    cv=5,\n",
    "    random_state=42,\n",
    "    n_jobs=-1,\n",
    "    verbose=1\n",
    ")\n",
    "\n",
    "# Fit the model\n",
    "random_search.fit(X_train_scaled, y_train)\n",
    "\n",
    "# Best parameters\n",
    "print(\"Best Hyperparameters:\\n\", random_search.best_params_)\n",
    "\n",
    "# Use the best estimator\n",
    "best_rf = random_search.best_estimator_\n",
    "\n",
    "# Predict on the test set\n",
    "y_pred_rf = best_rf.predict(X_test_scaled)\n",
    "\n",
    "# Evaluation metrics\n",
    "mae_rf = mean_absolute_error(y_test, y_pred_rf)\n",
    "rmse_rf = np.sqrt(mean_squared_error(y_test, y_pred_rf))\n",
    "r2_rf = r2_score(y_test, y_pred_rf)\n",
    "\n",
    "# Print results\n",
    "print(\"\\nTuned Random Forest Regressor Results (RandomizedSearchCV):\")\n",
    "print(f\"Mean Absolute Error (MAE): {mae_rf:.2f}\")\n",
    "print(f\"Root Mean Squared Error (RMSE): {rmse_rf:.2f}\")\n",
    "print(f\"R-squared: {r2_rf:.2f}\")"
   ]
  },
  {
   "cell_type": "markdown",
   "id": "82b79de9",
   "metadata": {},
   "source": [
    "## SVR"
   ]
  },
  {
   "cell_type": "code",
   "execution_count": 207,
   "id": "0af26ea9",
   "metadata": {},
   "outputs": [
    {
     "name": "stdout",
     "output_type": "stream",
     "text": [
      "Tuned Support Vector Regressor Results:\n",
      "Best Parameters: {'C': 100, 'epsilon': 0.1, 'kernel': 'linear'}\n",
      "Mean Absolute Error (MAE): 63.57\n",
      "Root Mean Squared Error (RMSE): 81.70\n",
      "R-squared: 0.93\n"
     ]
    }
   ],
   "source": [
    "param_grid = {\n",
    "    'kernel': ['linear'],\n",
    "    'C': [0.1, 1, 10, 100],\n",
    "    'epsilon': [0.01, 0.1, 0.5, 1.0]\n",
    "}\n",
    "\n",
    "# Initialize SVR\n",
    "svr = SVR()\n",
    "\n",
    "# Grid search with 5-fold CV\n",
    "grid_search = GridSearchCV(estimator=svr, param_grid=param_grid, cv=5, scoring='r2', n_jobs=-1)\n",
    "grid_search.fit(X_train_scaled, y_train)\n",
    "\n",
    "# Best estimator\n",
    "best_svr = grid_search.best_estimator_\n",
    "\n",
    "# Predict using the best model\n",
    "y_pred_svr = best_svr.predict(X_test_scaled)\n",
    "\n",
    "# Evaluation\n",
    "mae_svr = mean_absolute_error(y_test, y_pred_svr)\n",
    "rmse_svr = np.sqrt(mean_squared_error(y_test, y_pred_svr))\n",
    "r2_svr = r2_score(y_test, y_pred_svr)\n",
    "\n",
    "# Print results\n",
    "print(\"Tuned Support Vector Regressor Results:\")\n",
    "print(f\"Best Parameters: {grid_search.best_params_}\")\n",
    "print(f\"Mean Absolute Error (MAE): {mae_svr:.2f}\")\n",
    "print(f\"Root Mean Squared Error (RMSE): {rmse_svr:.2f}\")\n",
    "print(f\"R-squared: {r2_svr:.2f}\")"
   ]
  },
  {
   "cell_type": "markdown",
   "id": "32a9069e",
   "metadata": {},
   "source": [
    "## Gradient Boosting Regressor"
   ]
  },
  {
   "cell_type": "code",
   "execution_count": 211,
   "id": "3f52d923",
   "metadata": {},
   "outputs": [
    {
     "name": "stdout",
     "output_type": "stream",
     "text": [
      "Fitting 5 folds for each of 72 candidates, totalling 360 fits\n",
      "Best Parameters: {'learning_rate': 0.05, 'max_depth': 5, 'min_samples_leaf': 1, 'min_samples_split': 5, 'n_estimators': 200}\n",
      "Tuned Gradient Boosting Regressor Results:\n",
      "Mean Absolute Error (MAE): 4.00\n",
      "Root Mean Squared Error (RMSE): 12.50\n",
      "R-squared: 1.00\n"
     ]
    }
   ],
   "source": [
    "param_grid = {\n",
    "    'n_estimators': [100, 200],\n",
    "    'learning_rate': [0.05, 0.1, 0.2],\n",
    "    'max_depth': [3, 4, 5],\n",
    "    'min_samples_split': [2, 5],\n",
    "    'min_samples_leaf': [1, 3]\n",
    "}\n",
    "\n",
    "# Create model\n",
    "gbr = GradientBoostingRegressor(random_state=42)\n",
    "\n",
    "# Grid search with 5-fold cross-validation\n",
    "grid_search = GridSearchCV(estimator=gbr, param_grid=param_grid, \n",
    "                           cv=5, scoring='r2', n_jobs=-1, verbose=1)\n",
    "\n",
    "# Fit on scaled training data\n",
    "grid_search.fit(X_train_scaled, y_train)\n",
    "\n",
    "# Get the best model\n",
    "best_gbr = grid_search.best_estimator_\n",
    "print(\"Best Parameters:\", grid_search.best_params_)\n",
    "# Predict\n",
    "y_pred_gbr = best_gbr.predict(X_test_scaled)\n",
    "\n",
    "# Evaluation metrics\n",
    "mae_gbr = mean_absolute_error(y_test, y_pred_gbr)\n",
    "rmse_gbr = np.sqrt(mean_squared_error(y_test, y_pred_gbr))\n",
    "r2_gbr = r2_score(y_test, y_pred_gbr)\n",
    "\n",
    "# Print results\n",
    "print(\"Tuned Gradient Boosting Regressor Results:\")\n",
    "print(f\"Mean Absolute Error (MAE): {mae_gbr:.2f}\")\n",
    "print(f\"Root Mean Squared Error (RMSE): {rmse_gbr:.2f}\")\n",
    "print(f\"R-squared: {r2_gbr:.2f}\")"
   ]
  },
  {
   "cell_type": "markdown",
   "id": "fe633fe7",
   "metadata": {},
   "source": [
    "## Model Selection"
   ]
  },
  {
   "cell_type": "code",
   "execution_count": 209,
   "id": "bbd74517",
   "metadata": {},
   "outputs": [
    {
     "name": "stdout",
     "output_type": "stream",
     "text": [
      "                                 Model    MAE   RMSE  R-squared\n",
      "4  Gradient Boosting Regressor (Tuned)   5.37  12.78       1.00\n",
      "1      Decision Tree Regressor (Tuned)   6.90  22.58       0.99\n",
      "2      Random Forest Regressor (Tuned)  30.73  57.50       0.96\n",
      "0                    Linear Regression  64.40  81.97       0.93\n",
      "3     Support Vector Regressor (Tuned)  63.81  81.87       0.93\n"
     ]
    }
   ],
   "source": [
    "results = {\n",
    "    \"Model\": [\n",
    "        \"Linear Regression\",\n",
    "        \"Decision Tree Regressor (Tuned)\",\n",
    "        \"Random Forest Regressor (Tuned)\",\n",
    "        \"Support Vector Regressor (Tuned)\",\n",
    "        \"Gradient Boosting Regressor (Tuned)\"\n",
    "    ],\n",
    "    \"MAE\": [64.40, 6.90, 30.73, 63.81, 5.37],\n",
    "    \"RMSE\": [81.97, 22.58, 57.50, 81.87, 12.78],\n",
    "    \"R-squared\": [0.93, 0.99, 0.96, 0.93, 1.00]\n",
    "}\n",
    "\n",
    "# Convert to DataFrame\n",
    "results_df = pd.DataFrame(results)\n",
    "\n",
    "# Sort by RMSE or MAE or R-squared depending on preference\n",
    "# Example: Sort by R-squared (descending)\n",
    "sorted_df = results_df.sort_values(by=\"R-squared\", ascending=False)\n",
    "\n",
    "# Display the sorted table\n",
    "print(sorted_df)"
   ]
  },
  {
   "cell_type": "code",
   "execution_count": 214,
   "id": "fbbc72f4",
   "metadata": {},
   "outputs": [
    {
     "data": {
      "text/plain": [
       "['scaler.pkl']"
      ]
     },
     "execution_count": 214,
     "metadata": {},
     "output_type": "execute_result"
    }
   ],
   "source": [
    "import joblib\n",
    "\n",
    "# Save the model\n",
    "joblib.dump(best_gbr, 'gbr_model.sav')\n",
    "\n",
    "# Save the label encoders\n",
    "joblib.dump(label_encoders, 'label_encoders.pkl')\n",
    "\n",
    "# Save the scaler\n",
    "joblib.dump(scaler, \"scaler.pkl\")"
   ]
  }
 ],
 "metadata": {
  "kernelspec": {
   "display_name": "Python 3",
   "language": "python",
   "name": "python3"
  },
  "language_info": {
   "codemirror_mode": {
    "name": "ipython",
    "version": 3
   },
   "file_extension": ".py",
   "mimetype": "text/x-python",
   "name": "python",
   "nbconvert_exporter": "python",
   "pygments_lexer": "ipython3",
   "version": "3.13.3"
  }
 },
 "nbformat": 4,
 "nbformat_minor": 5
}
